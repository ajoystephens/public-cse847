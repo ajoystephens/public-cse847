{
 "cells": [
  {
   "cell_type": "markdown",
   "id": "9cc35281-9362-4a2e-a28b-49a8ca28b68d",
   "metadata": {},
   "source": [
    "## Finding Low Accuracy Cluster"
   ]
  },
  {
   "cell_type": "code",
   "execution_count": 1,
   "id": "e01bc140-19ac-4be1-8cec-f899993e97ea",
   "metadata": {},
   "outputs": [],
   "source": [
    "# LIBRARIES\n",
    "import numpy as np\n",
    "import pandas as pd\n",
    "\n",
    "from sklearn.metrics import accuracy_score\n",
    "from sklearn.cluster import KMeans\n",
    "from sklearn.preprocessing import StandardScaler"
   ]
  },
  {
   "cell_type": "code",
   "execution_count": 2,
   "id": "80a1f874-66e3-4c36-baf5-8e73acf170f4",
   "metadata": {},
   "outputs": [],
   "source": [
    "# PARAMETERS\n",
    "input_filepath = 'prepared_data/german.csv'\n",
    "output_filepath = 'clustered_data/german.csv'\n",
    "\n",
    "trial_cnt = 10"
   ]
  },
  {
   "cell_type": "code",
   "execution_count": 3,
   "id": "ba240034-2cda-47e2-987b-89450c9bdedb",
   "metadata": {},
   "outputs": [],
   "source": [
    "# GET DATA\n",
    "df = pd.read_csv(input_filepath)\n",
    "\n",
    "y_cols = ['y_true','y_pred_score','y_pred']\n",
    "X_df =  df.loc[:, ~df.columns.isin(y_cols)]\n",
    "\n",
    "X = X_df.to_numpy()\n",
    "X_scaled = StandardScaler().fit_transform(X)"
   ]
  },
  {
   "cell_type": "code",
   "execution_count": 4,
   "id": "a796bfdb-8ceb-40e6-bb12-49be54330452",
   "metadata": {},
   "outputs": [],
   "source": [
    "# We want to find a cluster with the lowest accuracy\n",
    " # - h\n",
    "\n",
    "    \n",
    "# Create several different clusters, then check the accuracy of all of them\n",
    "def basicClustering(x,y_true,y_pred,k,trial_cnt):\n",
    "    result_accuracy=[1]*k\n",
    "    result_clusters=1\n",
    "    \n",
    "    for t in range(10):\n",
    "        accuracy=[None]*k\n",
    "        size=[None]*k\n",
    "\n",
    "        clusters = KMeans(k).fit(X_scaled) \n",
    "        \n",
    "        # calculate the accuracy for each of the clusters\n",
    "        for i in np.unique(clusters.labels_):\n",
    "            mask = (clusters.labels_ == i)\n",
    "\n",
    "            # cluster_x = X_scaled[mask,:]\n",
    "            cluster_y_true = y_true[mask]\n",
    "            cluster_y_pred = y_pred[mask]\n",
    "            \n",
    "\n",
    "            accuracy[i] = accuracy_score(cluster_y_true,cluster_y_pred)\n",
    "            size[i] = cluster_y_true.shape[0]\n",
    "\n",
    "        k_min = accuracy.index(min(accuracy))\n",
    "        # check if the cluster with the smallest accuracy is the min so far\n",
    "        if min(accuracy)<min(result_accuracy):\n",
    "            result_accuracy=accuracy\n",
    "            result_clusters = clusters\n",
    "\n",
    "        print('trial '+str(t)+': '+str(accuracy[k_min])+' ('+str(size[k_min])+')')\n",
    "    return(result_accuracy,result_clusters)\n"
   ]
  },
  {
   "cell_type": "code",
   "execution_count": 5,
   "id": "157609f7-b7dd-4a84-82eb-f4a5aada8cc3",
   "metadata": {},
   "outputs": [],
   "source": [
    "# sub cluster\n",
    "\n",
    "def getLeastAccurateCluster(x,y_true,y_pred,k,n_min):\n",
    "    accuracy=[None]*k\n",
    "    size=[None]*k\n",
    "    clusters = KMeans(k).fit(x)\n",
    "    for i in np.unique(clusters.labels_):\n",
    "        mask = (clusters.labels_ == i)\n",
    "        if sum(mask) >= n_min:\n",
    "            cluster_x = x[mask,:]\n",
    "            cluster_y_true = y_true[mask]\n",
    "            cluster_y_pred = y_pred[mask]\n",
    "\n",
    "            accuracy[i] = accuracy_score(cluster_y_true,cluster_y_pred)\n",
    "        else:\n",
    "            accuracy[i] = 1\n",
    "        size[i]=sum(mask)\n",
    "    k_min = accuracy.index(min(accuracy))\n",
    "    mask = clusters.labels_ == k_min\n",
    "    center = clusters.cluster_centers_[k_min,:]\n",
    "\n",
    "    return(mask,min(accuracy),center)\n",
    "\n",
    "\n",
    "def getLeastAccurateCluster_Recursive(x,y_true,y_pred,k,n_min):\n",
    "    # print('TOP x shape:',x.shape)\n",
    "    n = x.shape[0]\n",
    "    indices = list(range(0, n))\n",
    "    first_mask,first_accuracy,first_center = getLeastAccurateCluster(x,y_true,y_pred,k,n_min)\n",
    "\n",
    "    return_mask = first_mask\n",
    "    return_accuracy = first_accuracy\n",
    "    return_center = first_center\n",
    "    \n",
    "    if sum(first_mask) > n_min:\n",
    "        # print('first_mask shape:',first_mask.shape)\n",
    "        # print('y_true shape:',y_true.shape)\n",
    "        new_x = x[first_mask,:]\n",
    "        new_y_true = y_true[first_mask]\n",
    "        new_y_pred = y_pred[first_mask]\n",
    "        \n",
    "        full_i = np.array(list(range(0, n)))\n",
    "        sub_i = full_i[first_mask]\n",
    "        \n",
    "        sub_mask,sub_accuracy,sub_center = getLeastAccurateCluster_Recursive(new_x,new_y_true,new_y_pred,k,n_min)\n",
    "        \n",
    "        if sub_accuracy < return_accuracy:\n",
    "            return_mask = np.full(n,False)\n",
    "            for i in sub_i[sub_mask]:\n",
    "                return_mask[i] = True\n",
    "            return_accuracy = sub_accuracy\n",
    "            return_center = sub_center\n",
    "        \n",
    "        # return(return_mask)\n",
    "    \n",
    "    # else: return(newMask)\n",
    "    return(return_mask,return_accuracy,return_center)\n",
    "\n",
    "\n",
    "def subClustering(x,y_true,y_pred,k,n_min,trial_cnt):\n",
    "    result_accuracy=1\n",
    "    result_center=1\n",
    "    result_mask = []\n",
    "    \n",
    "    for t in range(10):\n",
    "        accuracy=[None]*k\n",
    "        # size=[None]*k\n",
    "        \n",
    "        mask,accuracy,center = getLeastAccurateCluster_Recursive(x,y_true,y_pred,k,n_min)\n",
    "        # print(mask)\n",
    "\n",
    "        # check if the cluster with the smallest accuracy is the min so far\n",
    "        if accuracy<result_accuracy:\n",
    "            result_accuracy=accuracy\n",
    "            result_center = center\n",
    "            result_mask = mask\n",
    "\n",
    "    # print(resul_mask)\n",
    "    # print(mask)\n",
    "        print('trial '+str(t)+': '+str(accuracy)+' ('+str(sum(1*mask))+')')\n",
    "    return(result_accuracy,result_center,result_mask)\n",
    "\n",
    "\n"
   ]
  },
  {
   "cell_type": "code",
   "execution_count": 6,
   "id": "54230d56-b143-4be1-b230-c32941370d7f",
   "metadata": {},
   "outputs": [
    {
     "name": "stdout",
     "output_type": "stream",
     "text": [
      "trial 0: 0.6470588235294118 (51)\n",
      "trial 1: 0.6363636363636364 (11)\n",
      "trial 2: 0.660377358490566 (53)\n",
      "trial 3: 0.6727272727272727 (55)\n",
      "trial 4: 0.660377358490566 (53)\n",
      "trial 5: 0.6834532374100719 (139)\n",
      "trial 6: 0.7227722772277227 (101)\n",
      "trial 7: 0.728 (125)\n",
      "trial 8: 0.6851851851851852 (108)\n",
      "trial 9: 0.6896551724137931 (87)\n"
     ]
    }
   ],
   "source": [
    "k = 5\n",
    "trial_cnt = 10\n",
    "\n",
    "y_true = df['y_true']\n",
    "y_pred = df['y_pred']\n",
    "\n",
    "\n",
    "clust_accuracy, clusters = basicClustering(X_scaled,y_true,y_pred,k,trial_cnt)\n",
    "\n",
    "k_min = clust_accuracy.index(min(clust_accuracy))\n",
    "# clusters.cluster_centers_[k_min,:]\n",
    "# k_min"
   ]
  },
  {
   "cell_type": "code",
   "execution_count": 7,
   "id": "611303a6-9de2-4a88-b4a5-182da5532dbc",
   "metadata": {},
   "outputs": [
    {
     "name": "stdout",
     "output_type": "stream",
     "text": [
      "trial 0: 0.5 (12)\n",
      "trial 1: 0.45454545454545453 (11)\n",
      "trial 2: 0.4375 (16)\n",
      "trial 3: 0.5 (12)\n",
      "trial 4: 0.46153846153846156 (13)\n",
      "trial 5: 0.5 (12)\n",
      "trial 6: 0.4 (10)\n",
      "trial 7: 0.46153846153846156 (13)\n",
      "trial 8: 0.5 (10)\n",
      "trial 9: 0.5 (12)\n"
     ]
    },
    {
     "data": {
      "text/plain": [
       "0.4"
      ]
     },
     "execution_count": 7,
     "metadata": {},
     "output_type": "execute_result"
    }
   ],
   "source": [
    "k = 5\n",
    "trial_cnt = 10\n",
    "n_min = 10\n",
    "\n",
    "y_true = df['y_true']\n",
    "y_pred = df['y_pred']\n",
    "\n",
    "\n",
    "accuracy,center,mask = subClustering(X_scaled,y_true,y_pred,k,n_min,trial_cnt)\n",
    "\n",
    "np.mean(accuracy)\n"
   ]
  },
  {
   "cell_type": "code",
   "execution_count": 8,
   "id": "bfb276cf-744d-4ce0-b3b7-86ac854ca88a",
   "metadata": {},
   "outputs": [],
   "source": [
    "df['clust_mask']=mask\n",
    "\n",
    "df.to_csv(output_filepath)"
   ]
  },
  {
   "cell_type": "code",
   "execution_count": null,
   "id": "96ee75e9-a7e0-4d63-a8e5-6e8e7b1b7985",
   "metadata": {},
   "outputs": [],
   "source": []
  }
 ],
 "metadata": {
  "kernelspec": {
   "display_name": "Python 3 (ipykernel)",
   "language": "python",
   "name": "python3"
  },
  "language_info": {
   "codemirror_mode": {
    "name": "ipython",
    "version": 3
   },
   "file_extension": ".py",
   "mimetype": "text/x-python",
   "name": "python",
   "nbconvert_exporter": "python",
   "pygments_lexer": "ipython3",
   "version": "3.9.7"
  }
 },
 "nbformat": 4,
 "nbformat_minor": 5
}
