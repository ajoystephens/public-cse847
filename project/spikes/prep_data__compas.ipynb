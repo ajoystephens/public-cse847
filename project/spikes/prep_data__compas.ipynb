{
 "cells": [
  {
   "cell_type": "markdown",
   "id": "21559df1-97fd-45a5-8541-351420e72bd0",
   "metadata": {},
   "source": [
    "# Dataset Prep File"
   ]
  },
  {
   "cell_type": "code",
   "execution_count": 2,
   "id": "a9f010d1-4236-4d78-9be3-8823ca7931ab",
   "metadata": {},
   "outputs": [],
   "source": [
    "# LIBRARIES\n",
    "import matplotlib.pyplot as plt\n",
    "import numpy as np\n",
    "import pandas as pd\n",
    "import random\n",
    "import torch\n",
    "\n",
    "from aif360.datasets import CompasDataset # <-- DATASET\n",
    "\n",
    "from sklearn.metrics import accuracy_score,r2_score, roc_auc_score\n",
    "from sklearn.model_selection import train_test_split\n",
    "from sklearn.preprocessing import StandardScaler\n",
    "from torch import nn\n",
    "from torch.nn import functional as F\n",
    "from torch.utils.data import Dataset, DataLoader"
   ]
  },
  {
   "cell_type": "code",
   "execution_count": 3,
   "id": "3e01565a-8338-4277-b349-efe9c6492569",
   "metadata": {},
   "outputs": [],
   "source": [
    "# ESTABLISH PARAMETERS\n",
    "percent_test = 0.20\n",
    "batch_size = 64\n",
    "learning_rate = 0.01\n",
    "epochs = 250\n",
    "\n",
    "result_filepath = 'prepared_data/compas.csv'"
   ]
  },
  {
   "cell_type": "code",
   "execution_count": 11,
   "id": "e84d069b-3ae3-4074-bb5c-373824facc39",
   "metadata": {},
   "outputs": [
    {
     "name": "stdout",
     "output_type": "stream",
     "text": [
      "Shape of X: (6172, 13)\n",
      "Shape of y: (6172,)\n"
     ]
    }
   ],
   "source": [
    "# GET DATA\n",
    "# - pulling data from the aif360 library\n",
    "# - using this library does require some setup\n",
    "\n",
    "label_map = {1.0: 'Did recid.', 0.0: 'No recid.'}\n",
    "# data = CompasDataset(\n",
    "#     protected_attribute_names=[],\n",
    "#     features_to_drop=['age_cat'],\n",
    "#     categorical_features=['c_charge_degree','c_charge_desc','sex','race'],\n",
    "#     metadata={'label_map': label_map,})\n",
    "\n",
    "data = CompasDataset(\n",
    "    protected_attribute_names=[],\n",
    "    features_to_drop=['age_cat','c_charge_desc'],\n",
    "    categorical_features=['c_charge_degree','sex','race'],\n",
    "    metadata={'label_map': label_map,})\n",
    "\n",
    "X = data.features\n",
    "y = data.labels.ravel()\n",
    "feature_names = data.feature_names\n",
    "\n",
    "features_to_drop = ['sex=Female','c_charge_degree=M','Unnamed: 0']\n",
    "# for col in features_to_drop:\n",
    "#     i = np.where(data.feature_names == col)\n",
    "#     X = np.delete(X,i,axis=0)\n",
    "#     y = np.delete(y,i,axis=0)\n",
    "#     feature_names = np.delete(feature_names,i,axis=0)\n",
    "drop_i = [feature_names.index(i) for i in features_to_drop]\n",
    "X = np.delete(X,drop_i,axis=1)\n",
    "feature_names = np.delete(feature_names,drop_i,axis=0)\n",
    "    \n",
    "\n",
    "sc = StandardScaler()\n",
    "X_scaled = sc.fit_transform(X)\n",
    "\n",
    "print(\"Shape of X: {}\".format(X.shape))\n",
    "print(\"Shape of y: {}\".format(y.shape))"
   ]
  },
  {
   "cell_type": "code",
   "execution_count": 9,
   "id": "79aa1288-fcc7-4550-a1cf-b419b58c5621",
   "metadata": {},
   "outputs": [
    {
     "name": "stdout",
     "output_type": "stream",
     "text": [
      "['age' 'juv_fel_count' 'juv_misd_count' 'juv_other_count' 'priors_count'\n",
      " 'sex=Male' 'race=African-American' 'race=Asian' 'race=Caucasian'\n",
      " 'race=Hispanic' 'race=Native American' 'race=Other' 'c_charge_degree=F']\n",
      "[5, 14]\n"
     ]
    },
    {
     "data": {
      "text/plain": [
       "(array([], dtype=int64),)"
      ]
     },
     "execution_count": 9,
     "metadata": {},
     "output_type": "execute_result"
    }
   ],
   "source": [
    "print(feature_names)\n",
    "print(drop_i)\n",
    "np.where(data.feature_names == 'sex=Female')"
   ]
  },
  {
   "cell_type": "code",
   "execution_count": 4,
   "id": "aa1f0b55-320d-439f-938c-1f4a9e99a532",
   "metadata": {},
   "outputs": [],
   "source": [
    "# data.feature_names"
   ]
  },
  {
   "cell_type": "code",
   "execution_count": 5,
   "id": "4f061bb7-947c-45f2-a941-6f3d6e874dd5",
   "metadata": {},
   "outputs": [
    {
     "name": "stdout",
     "output_type": "stream",
     "text": [
      "Train Size: 4938\n",
      "Test Size:  1234\n"
     ]
    }
   ],
   "source": [
    "# split into training and test\n",
    "# X_train, X_test, y_train, y_test = train_test_split(X_scaled, y,test_size=percent_test)\n",
    "n = X.shape[0]\n",
    "test_n = int(n*percent_test)\n",
    "test_i = random.sample(range(n),test_n)\n",
    "\n",
    "X_test = np.take(X,test_i,axis=0)\n",
    "X_train = np.delete(X,test_i,axis=0)\n",
    "\n",
    "X_scaled_test = np.take(X_scaled,test_i,axis=0)\n",
    "X_scaled_train = np.delete(X_scaled,test_i,axis=0)\n",
    "\n",
    "y_test = np.take(y,test_i,axis=0)\n",
    "y_train = np.delete(y,test_i,axis=0)\n",
    "\n",
    "print(\"Train Size: {}\".format(X_train.shape[0]))\n",
    "print(\"Test Size:  {}\".format(X_test.shape[0]))"
   ]
  },
  {
   "cell_type": "markdown",
   "id": "1a8ac594-2558-4506-bfa7-14f1c996999c",
   "metadata": {},
   "source": [
    "## Modeling: Neural Net"
   ]
  },
  {
   "cell_type": "code",
   "execution_count": 6,
   "id": "113f6238-f547-473c-a587-e67307aa122f",
   "metadata": {},
   "outputs": [],
   "source": [
    "class dataset(Dataset):\n",
    "    \n",
    "    def __init__(self,x,y):\n",
    "        self.x = torch.tensor(x,dtype=torch.float32)\n",
    "        self.y = torch.tensor(y,dtype=torch.float32)\n",
    "        self.length = self.x.shape[0]\n",
    " \n",
    "    def __getitem__(self,idx):\n",
    "        return self.x[idx],self.y[idx]\n",
    "    def __len__(self):\n",
    "        return self.length\n",
    "\n",
    "class Net(nn.Module):\n",
    "    def __init__(self,input_shape):\n",
    "        super(Net,self).__init__()\n",
    "        # self.fc1 = nn.Linear(input_shape,32)\n",
    "        # self.fc2 = nn.Linear(32,64)\n",
    "        # self.fc3 = nn.Linear(64,1)\n",
    "        \n",
    "        # self.predict=nn.Linear(input_shape,1)\n",
    "        \n",
    "        self.l1 = nn.Linear(input_shape,64)\n",
    "        self.l2 = nn.Linear(64,1)\n",
    "    def forward(self,x):\n",
    "        # x = torch.relu(self.fc1(x))\n",
    "        # x = torch.relu(self.fc2(x))\n",
    "        # x = torch.sigmoid(self.fc3(x))\n",
    "        \n",
    "        # x = torch.sigmoid(self.predict(x))\n",
    "        \n",
    "        x = torch.relu(self.l1(x))\n",
    "        x = torch.sigmoid(self.l2(x))\n",
    "        return x"
   ]
  },
  {
   "cell_type": "code",
   "execution_count": 7,
   "id": "29bb270f-4a81-4b5c-995d-47331ac3e111",
   "metadata": {},
   "outputs": [],
   "source": [
    "# SETUP\n",
    "trainset = dataset(X_scaled_train,y_train)\n",
    "trainloader = DataLoader(trainset,batch_size=batch_size,shuffle=False)\n",
    "\n",
    "model = Net(input_shape=X_scaled_train.shape[1])\n",
    "optimizer = torch.optim.SGD(model.parameters(),lr=learning_rate)\n",
    "loss_fn = nn.BCELoss()"
   ]
  },
  {
   "cell_type": "code",
   "execution_count": 8,
   "id": "7c9532d8-acdc-40ee-9d8d-42f8bc4e1cf1",
   "metadata": {},
   "outputs": [
    {
     "name": "stdout",
     "output_type": "stream",
     "text": [
      "epoch 0\tloss : 0.6636534333229065\t accuracy : 0.4\n",
      "epoch 50\tloss : 0.570107638835907\t accuracy : 0.7\n",
      "epoch 100\tloss : 0.5670939683914185\t accuracy : 0.7\n",
      "epoch 150\tloss : 0.5646152496337891\t accuracy : 0.7\n",
      "epoch 200\tloss : 0.562015175819397\t accuracy : 0.7\n"
     ]
    },
    {
     "data": {
      "image/png": "[encoded data removed]",
      "text/plain": [
       "<Figure size 1080x360 with 2 Axes>"
      ]
     },
     "metadata": {
      "needs_background": "light"
     },
     "output_type": "display_data"
    }
   ],
   "source": [
    "# TRAINING\n",
    "epoch = []\n",
    "losses = []\n",
    "accur = []\n",
    "\n",
    "for i in range(epochs):\n",
    "    for j,(x_this,y_this) in enumerate(trainloader):\n",
    "\n",
    "        #calculate output\n",
    "        output = model(x_this)\n",
    "\n",
    "        #calculate loss\n",
    "        loss = loss_fn(output,y_this.reshape(-1,1))\n",
    "\n",
    "        #accuracy\n",
    "        # predicted = model(torch.tensor(x,dtype=torch.float32))\n",
    "        # print(np.unique(predicted.reshape(-1).detach().numpy().round()))\n",
    "        # print(np.unique(y))\n",
    "        # print(np.unique(predicted.reshape(-1).detach().numpy().round() == y))\n",
    "        # print(str(output[0])+','+str(y_train[0]))\n",
    "        # print(\n",
    "        acc = (output.reshape(-1).detach().numpy().round() == y_this.detach().numpy()).mean()\n",
    "        #backprop\n",
    "        optimizer.zero_grad()\n",
    "        loss.backward()\n",
    "        optimizer.step()\n",
    "\n",
    "    if i%50 == 0:\n",
    "        epoch.append(i)\n",
    "        losses.append(loss.item())\n",
    "        accur.append(acc)\n",
    "        print(\"epoch {}\\tloss : {}\\t accuracy : {}\".format(i,loss,acc))\n",
    "        \n",
    "\n",
    "plt.figure(figsize=(15,5))\n",
    "\n",
    "plt.subplot(1, 2, 1)\n",
    "plt.plot(epoch,losses)\n",
    "plt.title('Loss vs Epochs')\n",
    "plt.xlabel('Epochs')\n",
    "plt.ylabel('loss')\n",
    "\n",
    "plt.subplot(1, 2, 2)\n",
    "plt.plot(epoch, accur)\n",
    "plt.title('Accuracy vs Epochs')\n",
    "plt.xlabel('Epochs')\n",
    "plt.ylabel('Accuracy')\n",
    "plt.show()"
   ]
  },
  {
   "cell_type": "code",
   "execution_count": 9,
   "id": "a5b68be3-3f75-42be-b51d-74ae23ca3fa4",
   "metadata": {},
   "outputs": [
    {
     "name": "stdout",
     "output_type": "stream",
     "text": [
      "TRAIN Results\n",
      "Accuracy: 0.6899554475496152\n",
      "R2:       -0.24921540663276964\n",
      "AUC:      0.6824390877450754\n"
     ]
    }
   ],
   "source": [
    "# GET OVERALL TEST RESULTS\n",
    "x_tensor = torch.tensor(X_scaled_train,dtype=torch.float32)\n",
    "y_pred = model(x_tensor)\n",
    "y_train_pred = y_pred.detach().numpy()[:,0]\n",
    "\n",
    "print('TRAIN Results')\n",
    "accuracy = accuracy_score(y_train,y_train_pred.round())\n",
    "r2 = r2_score(y_train,y_train_pred.round())\n",
    "auc = roc_auc_score(y_train,y_train_pred.round())\n",
    "\n",
    "print('Accuracy: '+str(accuracy))\n",
    "print('R2:       '+str(r2))\n",
    "print('AUC:      '+str(auc))"
   ]
  },
  {
   "cell_type": "code",
   "execution_count": 10,
   "id": "59094c31-5927-4c98-8fa3-6371d57c1982",
   "metadata": {},
   "outputs": [
    {
     "name": "stdout",
     "output_type": "stream",
     "text": [
      "TEST Results\n",
      "Accuracy: 0.6758508914100486\n",
      "R2:       -0.3120680489101544\n",
      "AUC:      0.6668181818181818\n"
     ]
    }
   ],
   "source": [
    "x_tensor = torch.tensor(X_scaled_test,dtype=torch.float32)\n",
    "y_pred = model(x_tensor)\n",
    "y_test_pred = y_pred.detach().numpy()[:,0]\n",
    "\n",
    "\n",
    "print('TEST Results')\n",
    "accuracy = accuracy_score(y_test,y_test_pred.round())\n",
    "r2 = r2_score(y_test,y_test_pred.round())\n",
    "auc = roc_auc_score(y_test,y_test_pred.round())\n",
    "\n",
    "print('Accuracy: '+str(accuracy))\n",
    "print('R2:       '+str(r2))\n",
    "print('AUC:      '+str(auc))\n",
    "\n",
    "# pd.crosstab(df_test['y_true'],df_test['y_pred'], rownames=['Actual'], colnames=['Predicted'])"
   ]
  },
  {
   "cell_type": "code",
   "execution_count": 11,
   "id": "50f942b9-8a7b-4a31-af0a-1dfd4b8b3ed7",
   "metadata": {},
   "outputs": [
    {
     "data": {
      "text/html": [
       "<div>\n",
       "<style scoped>\n",
       "    .dataframe tbody tr th:only-of-type {\n",
       "        vertical-align: middle;\n",
       "    }\n",
       "\n",
       "    .dataframe tbody tr th {\n",
       "        vertical-align: top;\n",
       "    }\n",
       "\n",
       "    .dataframe thead th {\n",
       "        text-align: right;\n",
       "    }\n",
       "</style>\n",
       "<table border=\"1\" class=\"dataframe\">\n",
       "  <thead>\n",
       "    <tr style=\"text-align: right;\">\n",
       "      <th>Predicted</th>\n",
       "      <th>0.0</th>\n",
       "      <th>1.0</th>\n",
       "    </tr>\n",
       "    <tr>\n",
       "      <th>Actual</th>\n",
       "      <th></th>\n",
       "      <th></th>\n",
       "    </tr>\n",
       "  </thead>\n",
       "  <tbody>\n",
       "    <tr>\n",
       "      <th>0.0</th>\n",
       "      <td>513</td>\n",
       "      <td>171</td>\n",
       "    </tr>\n",
       "    <tr>\n",
       "      <th>1.0</th>\n",
       "      <td>229</td>\n",
       "      <td>321</td>\n",
       "    </tr>\n",
       "  </tbody>\n",
       "</table>\n",
       "</div>"
      ],
      "text/plain": [
       "Predicted  0.0  1.0\n",
       "Actual             \n",
       "0.0        513  171\n",
       "1.0        229  321"
      ]
     },
     "execution_count": 11,
     "metadata": {},
     "output_type": "execute_result"
    }
   ],
   "source": [
    "df = pd.DataFrame(X_test, columns=data.feature_names)\n",
    "df['y_true'] = y_test\n",
    "df['y_pred_score'] = y_test_pred\n",
    "df['y_pred'] = y_test_pred.round()\n",
    "df.to_csv(result_filepath,index=False) # save to csv\n",
    "\n",
    "# show confusion matrix\n",
    "pd.crosstab(df['y_true'],df['y_pred'], rownames=['Actual'], colnames=['Predicted'])"
   ]
  },
  {
   "cell_type": "code",
   "execution_count": null,
   "id": "3918e3bb-25e7-4bde-9d28-d9b20ea93eac",
   "metadata": {},
   "outputs": [],
   "source": []
  },
  {
   "cell_type": "code",
   "execution_count": null,
   "id": "c6ca925c-824d-438e-8288-40524ed4d499",
   "metadata": {},
   "outputs": [],
   "source": []
  }
 ],
 "metadata": {
  "kernelspec": {
   "display_name": "Python 3 (ipykernel)",
   "language": "python",
   "name": "python3"
  },
  "language_info": {
   "codemirror_mode": {
    "name": "ipython",
    "version": 3
   },
   "file_extension": ".py",
   "mimetype": "text/x-python",
   "name": "python",
   "nbconvert_exporter": "python",
   "pygments_lexer": "ipython3",
   "version": "3.9.7"
  }
 },
 "nbformat": 4,
 "nbformat_minor": 5
}
